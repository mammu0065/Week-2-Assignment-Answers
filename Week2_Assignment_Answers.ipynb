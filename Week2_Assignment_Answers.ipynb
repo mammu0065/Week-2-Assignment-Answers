{
  "cells": [
    {
      "cell_type": "markdown",
      "metadata": {
        "id": "view-in-github",
        "colab_type": "text"
      },
      "source": [
        "<a href=\"https://colab.research.google.com/github/mammu0065/Week-2-Assignment-Answers/blob/main/Week2_Assignment_Answers.ipynb\" target=\"_parent\"><img src=\"https://colab.research.google.com/assets/colab-badge.svg\" alt=\"Open In Colab\"/></a>"
      ]
    },
    {
      "cell_type": "markdown",
      "id": "70ed1871-3a39-402f-a6eb-276ec353e111",
      "metadata": {
        "tags": [],
        "id": "70ed1871-3a39-402f-a6eb-276ec353e111"
      },
      "source": [
        "### Ch.mamatha/week 2 assignment"
      ]
    },
    {
      "cell_type": "markdown",
      "id": "1fc38b76-0d36-4c84-a85c-e10ef8376800",
      "metadata": {
        "tags": [],
        "id": "1fc38b76-0d36-4c84-a85c-e10ef8376800"
      },
      "source": [
        "### WEEK-2: Assignment  - Probability Distribution"
      ]
    },
    {
      "cell_type": "markdown",
      "id": "68f282ec-0186-47f9-873a-f24a9fe64d4e",
      "metadata": {
        "id": "68f282ec-0186-47f9-873a-f24a9fe64d4e"
      },
      "source": [
        "### 1.Calculate Probabilities Using a Binomial Distribution"
      ]
    },
    {
      "cell_type": "markdown",
      "id": "c57ced36-9c22-40c8-b6e3-d47b31e1b60a",
      "metadata": {
        "id": "c57ced36-9c22-40c8-b6e3-d47b31e1b60a"
      },
      "source": [
        "Q1.1. Pavan kumar makes 65% of his free-throw attempts. If he shoots 15 free throws, what is the probability that he makes exactly 10?"
      ]
    },
    {
      "cell_type": "code",
      "execution_count": null,
      "id": "0b456421-93e1-478e-abe6-4a0c18b6379f",
      "metadata": {
        "id": "0b456421-93e1-478e-abe6-4a0c18b6379f"
      },
      "outputs": [],
      "source": [
        "import numpy as np\n",
        "import pandas as pd\n",
        "import scipy"
      ]
    },
    {
      "cell_type": "code",
      "execution_count": null,
      "id": "2ce10ebb-cb7c-44e9-adc9-dab45c49e118",
      "metadata": {
        "id": "2ce10ebb-cb7c-44e9-adc9-dab45c49e118"
      },
      "outputs": [],
      "source": [
        "from scipy.stats import binom"
      ]
    },
    {
      "cell_type": "markdown",
      "id": "6078d7fa-848e-4270-8f32-5cc1109ae1a7",
      "metadata": {
        "id": "6078d7fa-848e-4270-8f32-5cc1109ae1a7"
      },
      "source": [
        "binom.pmf(k=10,n=15,p=.65)"
      ]
    },
    {
      "cell_type": "markdown",
      "id": "5662294d-7743-4e5d-9bc4-78c8d9098ccb",
      "metadata": {
        "id": "5662294d-7743-4e5d-9bc4-78c8d9098ccb"
      },
      "source": [
        "Q1.2.Shivam flips a fair coin 6 times. What is the probability that the coin lands on heads 3 times or fewer?"
      ]
    },
    {
      "cell_type": "code",
      "execution_count": null,
      "id": "5fec5852-9a1e-4f2a-8d6d-485c6f3d4ebc",
      "metadata": {
        "tags": [],
        "id": "5fec5852-9a1e-4f2a-8d6d-485c6f3d4ebc",
        "outputId": "44156a91-22d3-44bf-8e9d-93e19534128f"
      },
      "outputs": [
        {
          "name": "stdout",
          "output_type": "stream",
          "text": [
            "0.65625\n"
          ]
        }
      ],
      "source": [
        "print(binom.cdf(k=3,n=6,p=0.5))"
      ]
    },
    {
      "cell_type": "markdown",
      "id": "2a4c3e03-c031-480d-ac2e-be4d1c5c09ef",
      "metadata": {
        "id": "2a4c3e03-c031-480d-ac2e-be4d1c5c09ef"
      },
      "source": [
        "Q1.3.It is known that 65% of individuals support a certain law. If 10 individuals are randomly selected, what is the probability that between 3 and 6 of them support the law?"
      ]
    },
    {
      "cell_type": "code",
      "execution_count": null,
      "id": "7ebdbfc6-12d1-4885-adf2-776109dd45e4",
      "metadata": {
        "id": "7ebdbfc6-12d1-4885-adf2-776109dd45e4",
        "outputId": "8db85bb1-fdfb-4c3d-e414-67d6a5320c36"
      },
      "outputs": [
        {
          "data": {
            "text/plain": [
              "0.4601487031476562"
            ]
          },
          "execution_count": 14,
          "metadata": {},
          "output_type": "execute_result"
        }
      ],
      "source": [
        "binom.cdf(k=6,n=10,p=.65)-binom.cdf(k=3,n=10,p=.65)"
      ]
    },
    {
      "cell_type": "markdown",
      "id": "34419e4e-a9fe-475b-a1a3-12154b0ab15f",
      "metadata": {
        "id": "34419e4e-a9fe-475b-a1a3-12154b0ab15f"
      },
      "source": [
        "### 2.Calculate Probabilities Using a Poisson Distribution"
      ]
    },
    {
      "cell_type": "markdown",
      "id": "643ce6e9-4464-46a5-b444-7bc60b2f8ceb",
      "metadata": {
        "id": "643ce6e9-4464-46a5-b444-7bc60b2f8ceb"
      },
      "source": [
        "Q2.1. A store sells 4 apples per day on average. What is the probability that they will sell 6 apples on a given day? "
      ]
    },
    {
      "cell_type": "code",
      "execution_count": null,
      "id": "8d9f9c42-aa08-4510-a587-c0c0d1eca583",
      "metadata": {
        "id": "8d9f9c42-aa08-4510-a587-c0c0d1eca583"
      },
      "outputs": [],
      "source": [
        "from scipy.stats import poisson"
      ]
    },
    {
      "cell_type": "code",
      "execution_count": null,
      "id": "a1108fbe-b525-41cc-b273-046b6d93126c",
      "metadata": {
        "id": "a1108fbe-b525-41cc-b273-046b6d93126c",
        "outputId": "9e9632cf-5e2e-46a3-f740-a3c2f471c65c"
      },
      "outputs": [
        {
          "data": {
            "text/plain": [
              "0.10419563456702102"
            ]
          },
          "execution_count": 11,
          "metadata": {},
          "output_type": "execute_result"
        }
      ],
      "source": [
        "poisson.pmf(6,4)"
      ]
    },
    {
      "cell_type": "markdown",
      "id": "58b05cc8-7e0e-430f-8b8d-d53b44a9223f",
      "metadata": {
        "id": "58b05cc8-7e0e-430f-8b8d-d53b44a9223f"
      },
      "source": [
        "Q2.2. A certain store sells seven footballs per day on average. What is the probability that this store sells four or less footballs in a given day?"
      ]
    },
    {
      "cell_type": "code",
      "execution_count": null,
      "id": "c58aae47-75fb-4540-8157-247e51e35fbc",
      "metadata": {
        "id": "c58aae47-75fb-4540-8157-247e51e35fbc",
        "outputId": "8515752f-cce1-4727-c164-afcabe25bce6"
      },
      "outputs": [
        {
          "data": {
            "text/plain": [
              "0.17299160788207146"
            ]
          },
          "execution_count": 14,
          "metadata": {},
          "output_type": "execute_result"
        }
      ],
      "source": [
        "poisson.cdf(4,7)"
      ]
    },
    {
      "cell_type": "markdown",
      "id": "1741b3e1-18ec-4df8-98c1-3d0103c96108",
      "metadata": {
        "id": "1741b3e1-18ec-4df8-98c1-3d0103c96108"
      },
      "source": [
        "Q2.3. A certain store sells 15 cans of tuna per day on average. What is the probability that this store sells more than 20 cans of tuna in a given day?"
      ]
    },
    {
      "cell_type": "code",
      "execution_count": null,
      "id": "94642f18-8c22-4cf7-a66c-83de50f32cd4",
      "metadata": {
        "id": "94642f18-8c22-4cf7-a66c-83de50f32cd4",
        "outputId": "731f5a29-129d-4da8-ca1e-f12cf2ecd8b2"
      },
      "outputs": [
        {
          "data": {
            "text/plain": [
              "0.08297091003146029"
            ]
          },
          "execution_count": 16,
          "metadata": {},
          "output_type": "execute_result"
        }
      ],
      "source": [
        "1-poisson.cdf(20,15)"
      ]
    },
    {
      "cell_type": "markdown",
      "id": "3ca841e9-266d-4a18-ba21-243abcd15fbc",
      "metadata": {
        "id": "3ca841e9-266d-4a18-ba21-243abcd15fbc"
      },
      "source": [
        "### 3.Calculate Probabilities Using a Uniform Distribution"
      ]
    },
    {
      "cell_type": "markdown",
      "id": "f4daacf9-0fa1-4f5c-a198-55efc586fd5f",
      "metadata": {
        "id": "f4daacf9-0fa1-4f5c-a198-55efc586fd5f"
      },
      "source": [
        "Q3.1. Suppose a bus shows up at a bus stop every 20 minutes. If you arrive at the bus stop, what is the probability that the bus will show up in 8 minutes or less?"
      ]
    },
    {
      "cell_type": "code",
      "execution_count": null,
      "id": "420a8ccb-b926-45e3-8978-b331f1a29cf4",
      "metadata": {
        "id": "420a8ccb-b926-45e3-8978-b331f1a29cf4"
      },
      "outputs": [],
      "source": [
        "from scipy.stats import uniform"
      ]
    },
    {
      "cell_type": "code",
      "execution_count": null,
      "id": "b5942df7-c8e0-457c-a82b-c91569419969",
      "metadata": {
        "id": "b5942df7-c8e0-457c-a82b-c91569419969",
        "outputId": "7f9e5c6e-74fb-4059-9273-270d47f62e62"
      },
      "outputs": [
        {
          "data": {
            "text/plain": [
              "0.4"
            ]
          },
          "execution_count": 18,
          "metadata": {},
          "output_type": "execute_result"
        }
      ],
      "source": [
        "uniform.cdf(x=8,loc=0,scale=20)-uniform.cdf(x=0,loc=0,scale=20)"
      ]
    },
    {
      "cell_type": "markdown",
      "id": "bf3bbe47-2445-4c7c-ba6e-1a6ef4e4e138",
      "metadata": {
        "id": "bf3bbe47-2445-4c7c-ba6e-1a6ef4e4e138"
      },
      "source": [
        "Q3.2.The weight of a certain species of frog is uniformly distributed between 15 and 25 grams. If you randomly select a frog, what is the probability that the frog weighs between 17 and 19 grams?"
      ]
    },
    {
      "cell_type": "code",
      "execution_count": null,
      "id": "dc942c21-179f-4f91-84e6-983936e506da",
      "metadata": {
        "id": "dc942c21-179f-4f91-84e6-983936e506da",
        "outputId": "ed6e2b83-9967-46f6-852c-d0b8ec54b230"
      },
      "outputs": [
        {
          "data": {
            "text/plain": [
              "0.2"
            ]
          },
          "execution_count": 19,
          "metadata": {},
          "output_type": "execute_result"
        }
      ],
      "source": [
        "uniform.cdf(x=19,loc=15,scale=10)-uniform.cdf(x=17,loc=15,scale=10)"
      ]
    },
    {
      "cell_type": "markdown",
      "id": "3df229d9-823c-49e6-ba78-091f6e815940",
      "metadata": {
        "id": "3df229d9-823c-49e6-ba78-091f6e815940"
      },
      "source": [
        "Q3.3.The length of an NBA game is uniformly distributed between 120 and 170 minutes. What is the probability that a randomly selected NBA game lasts more than 150 minutes?"
      ]
    },
    {
      "cell_type": "code",
      "execution_count": null,
      "id": "648f4921-6846-499e-8d79-fd7454cc60eb",
      "metadata": {
        "id": "648f4921-6846-499e-8d79-fd7454cc60eb",
        "outputId": "9ff96e01-6a42-42b4-92eb-3eaa2153594e"
      },
      "outputs": [
        {
          "data": {
            "text/plain": [
              "0.4"
            ]
          },
          "execution_count": 20,
          "metadata": {},
          "output_type": "execute_result"
        }
      ],
      "source": [
        "uniform.cdf(x=170,loc=120,scale=50)-uniform.cdf(x=150,loc=120,scale=50)"
      ]
    },
    {
      "cell_type": "markdown",
      "id": "fa7fa91c-254f-42c1-9e5a-a27392cdeded",
      "metadata": {
        "id": "fa7fa91c-254f-42c1-9e5a-a27392cdeded"
      },
      "source": [
        "### 4.Calculate Probabilities Using a Normal Distribution"
      ]
    },
    {
      "cell_type": "markdown",
      "id": "d6659416-4aea-4185-993a-b5e84aee7435",
      "metadata": {
        "id": "d6659416-4aea-4185-993a-b5e84aee7435"
      },
      "source": [
        "Q4.1.A radar unit is used to measure speeds of cars on a motorway. The speeds are normally distributed with a mean of 90 km/hr and a standard deviation of 10 km/hr. What is the probability that a car picked at random is travelling at more than 100 km/hr?"
      ]
    },
    {
      "cell_type": "code",
      "execution_count": null,
      "id": "174c6535-5a63-4692-ade7-ac76be17e81d",
      "metadata": {
        "id": "174c6535-5a63-4692-ade7-ac76be17e81d"
      },
      "outputs": [],
      "source": [
        "from scipy.stats import norm"
      ]
    },
    {
      "cell_type": "code",
      "execution_count": null,
      "id": "69f5f710-7284-4c52-a03b-a70fdf228c33",
      "metadata": {
        "id": "69f5f710-7284-4c52-a03b-a70fdf228c33",
        "outputId": "c84e978a-cb41-4658-ce01-b05eafacdc99"
      },
      "outputs": [
        {
          "data": {
            "text/plain": [
              "0.15865525393145707"
            ]
          },
          "execution_count": 46,
          "metadata": {},
          "output_type": "execute_result"
        }
      ],
      "source": [
        "1-norm.cdf(100, loc=90, scale=10)\n"
      ]
    },
    {
      "cell_type": "markdown",
      "id": "4f2af1e3-08b1-4596-88a9-7a29be6f64cd",
      "metadata": {
        "id": "4f2af1e3-08b1-4596-88a9-7a29be6f64cd"
      },
      "source": [
        "Q4.2.For a certain type of computers, the length of time bewteen charges of the battery is normally distributed with a mean of 50 hours and a standard deviation of 15 hours. John owns one of these computers and wants to know the probability that the length of time will be between 50 and 70 hours."
      ]
    },
    {
      "cell_type": "code",
      "execution_count": null,
      "id": "b3486716-2ae4-45c3-afcd-fe7add29824d",
      "metadata": {
        "id": "b3486716-2ae4-45c3-afcd-fe7add29824d"
      },
      "outputs": [],
      "source": [
        "up_lim=norm(loc = 50 , scale = 15).cdf(70)"
      ]
    },
    {
      "cell_type": "code",
      "execution_count": null,
      "id": "409047ef-8e74-42a8-aa90-5e1aaace8991",
      "metadata": {
        "id": "409047ef-8e74-42a8-aa90-5e1aaace8991"
      },
      "outputs": [],
      "source": [
        "lo_lim=norm(loc = 50 , scale = 15).cdf(50)"
      ]
    },
    {
      "cell_type": "code",
      "execution_count": null,
      "id": "5b79bc53-926e-4fee-a318-bc2a44c3a4dd",
      "metadata": {
        "id": "5b79bc53-926e-4fee-a318-bc2a44c3a4dd"
      },
      "outputs": [],
      "source": [
        "prob=up_lim-lo_lim"
      ]
    },
    {
      "cell_type": "code",
      "execution_count": null,
      "id": "9f93047e-c24e-4519-aeea-a0d28626c5ea",
      "metadata": {
        "id": "9f93047e-c24e-4519-aeea-a0d28626c5ea",
        "outputId": "144d4670-5501-4332-94a6-fd93035ff7b3"
      },
      "outputs": [
        {
          "name": "stdout",
          "output_type": "stream",
          "text": [
            "0.4087887802741321\n"
          ]
        }
      ],
      "source": [
        "print(prob)"
      ]
    },
    {
      "cell_type": "markdown",
      "id": "bfd4157b-c813-4f40-8e2d-bd51c646fc15",
      "metadata": {
        "id": "bfd4157b-c813-4f40-8e2d-bd51c646fc15"
      },
      "source": [
        "\n",
        "Q4.3.Entry to a certain University is determined by a national test. The scores on this test are normally distributed with a mean of 500 and a standard deviation of 100. Tom wants to be admitted to this university and he knows that he must score better than at least 70% of the students who took the test. Tom takes the test and scores 585. Will he be admitted to this university?"
      ]
    },
    {
      "cell_type": "code",
      "execution_count": null,
      "id": "172df528-b3f6-45a5-a3b6-37dba6d2642f",
      "metadata": {
        "id": "172df528-b3f6-45a5-a3b6-37dba6d2642f",
        "outputId": "9facf328-5992-439a-e33e-61f152d39f41"
      },
      "outputs": [
        {
          "data": {
            "text/plain": [
              "0.8023374568773076"
            ]
          },
          "execution_count": 10,
          "metadata": {},
          "output_type": "execute_result"
        }
      ],
      "source": [
        "norm(loc=500,scale=100).cdf(585)"
      ]
    },
    {
      "cell_type": "code",
      "execution_count": null,
      "id": "692a84fc-c7c6-42da-a577-3b73f3a8e84a",
      "metadata": {
        "id": "692a84fc-c7c6-42da-a577-3b73f3a8e84a"
      },
      "outputs": [],
      "source": [
        ""
      ]
    }
  ],
  "metadata": {
    "kernelspec": {
      "display_name": "Python 3 (ipykernel)",
      "language": "python",
      "name": "python3"
    },
    "language_info": {
      "codemirror_mode": {
        "name": "ipython",
        "version": 3
      },
      "file_extension": ".py",
      "mimetype": "text/x-python",
      "name": "python",
      "nbconvert_exporter": "python",
      "pygments_lexer": "ipython3",
      "version": "3.9.7"
    },
    "colab": {
      "name": "Week2-Assignment- Answers.ipynb",
      "provenance": [],
      "include_colab_link": true
    }
  },
  "nbformat": 4,
  "nbformat_minor": 5
}