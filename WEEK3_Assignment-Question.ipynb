{
  "cells": [
    {
      "cell_type": "markdown",
      "metadata": {
        "id": "view-in-github",
        "colab_type": "text"
      },
      "source": [
        "<a href=\"https://colab.research.google.com/github/mammu0065/Week-2-Assignment-Answers/blob/main/WEEK3_Assignment-Question.ipynb\" target=\"_parent\"><img src=\"https://colab.research.google.com/assets/colab-badge.svg\" alt=\"Open In Colab\"/></a>"
      ]
    },
    {
      "cell_type": "markdown",
      "id": "f0b37470-0aed-4a25-9c83-b7c419905b51",
      "metadata": {
        "id": "f0b37470-0aed-4a25-9c83-b7c419905b51"
      },
      "source": [
        "### WEEK 3: Assignment"
      ]
    },
    {
      "cell_type": "markdown",
      "id": "fef4acf7-6f16-4e7b-ab52-4198650eb19f",
      "metadata": {
        "id": "fef4acf7-6f16-4e7b-ab52-4198650eb19f"
      },
      "source": [
        "```\n",
        "Q1.Calculate the Salary using Python Programming\n",
        "\n",
        "Read the question carefully and follow the input and output format. \n",
        "\n",
        "Karen got salary for this month and she spends 20% of her salary for food, 10% of her salary for entertainment and 10% of her salary for travel.If she takes care of other shifts she will get 4% of the salary per day. Given her salary and the number of shifts she handled.Calculate how much she can save in her pocket after spending all these?\n",
        "\n",
        "Input and Output Format : First line of input consists of an integer, salary. Next line correspond to the number of shifts. Output consist of an integer, \n",
        "which is saving.\n",
        " 1. Print \"Salary too large\" when salary is greater than 10000. \n",
        " 2. Print \"Shifts too small\" when the shift is less than 0. \n",
        " 3. Print \"Salary too small\" when the salary is less than 0.\n",
        "Include a function named calculateSal()  to calcuate salary and print saving.\n",
        "\n",
        "- Sample Input 1:\n",
        "  7000\n",
        "  5\n",
        "  Sample Output 1:\n",
        "  5600\n",
        "- Sample Input 2:\n",
        "  80000\n",
        "  Sample Output 2:\n",
        "  Salary too large\n",
        "- Sample Input 3:\n",
        "  6000\n",
        "  -1\n",
        "  Sample Output 3:\n",
        "  Shift too small\n",
        "```"
      ]
    },
    {
      "cell_type": "code",
      "execution_count": 10,
      "id": "602a834c",
      "metadata": {
        "id": "602a834c"
      },
      "outputs": [],
      "source": [
        "import numpy as np\n",
        "import pandas as pd\n",
        "import scipy"
      ]
    },
    {
      "cell_type": "code",
      "source": [
        "salary=int(input(\"Enter the salary:\"))\n",
        "shift=int(input(\"Enter the number of shift:\"))\n",
        "if(salary>8000):\n",
        "    print(\"The salary is too large\")\n",
        "elif(salary<=0):\n",
        "    print(\"The salary is too small\")\n",
        "elif(shift<=0):\n",
        "    print(\"shifts too small\")\n",
        "savings=salary-(.40*salary)+(0.04*shift*salary)\n",
        "print(f\"savings:{savings}\")"
      ],
      "metadata": {
        "colab": {
          "base_uri": "https://localhost:8080/"
        },
        "id": "_o8HUAlJq6Hr",
        "outputId": "20bec913-b371-4436-9671-70cd74174ca1"
      },
      "id": "_o8HUAlJq6Hr",
      "execution_count": 13,
      "outputs": [
        {
          "output_type": "stream",
          "name": "stdout",
          "text": [
            "Enter the salary:7000\n",
            "Enter the number of shift:3\n",
            "savings:5040.0\n"
          ]
        }
      ]
    },
    {
      "cell_type": "markdown",
      "id": "1968378f-56d5-47f6-8791-913eb738aa3d",
      "metadata": {
        "id": "1968378f-56d5-47f6-8791-913eb738aa3d"
      },
      "source": [
        "```\n",
        "Q2.write python code to read n as integer,from STDIN. For all non-negative integers i<n ,print i**2.\n",
        "\n",
        "Example\n",
        "The list of non-negative integers that are less than n=3 is[0,1,2]. Print the square of each number on a separate line.\n",
        "0\n",
        "1\n",
        "4\n",
        "\n",
        "Input Format\n",
        "The first and only line contains the integer,n .\n",
        "Output Format\n",
        "Print n lines, one corresponding to each i .\n",
        "\n",
        "\n",
        "Sample Input \n",
        "5\n",
        "Sample Output \n",
        "0\n",
        "1\n",
        "4\n",
        "9\n",
        "16\n",
        "```"
      ]
    },
    {
      "cell_type": "code",
      "source": [
        "n=int(input(\"Enter a number:\"))\n",
        "for i in range(n):\n",
        "    print(i**2)"
      ],
      "metadata": {
        "colab": {
          "base_uri": "https://localhost:8080/"
        },
        "id": "I6dnm2RumYBj",
        "outputId": "d592058f-d0be-4000-fd3a-2835576a7e76"
      },
      "id": "I6dnm2RumYBj",
      "execution_count": 1,
      "outputs": [
        {
          "output_type": "stream",
          "name": "stdout",
          "text": [
            "Enter a number:6\n",
            "0\n",
            "1\n",
            "4\n",
            "9\n",
            "16\n",
            "25\n"
          ]
        }
      ]
    },
    {
      "cell_type": "markdown",
      "id": "f50ecb1a-ed81-4254-ae20-57506e45c53f",
      "metadata": {
        "id": "f50ecb1a-ed81-4254-ae20-57506e45c53f"
      },
      "source": [
        "```\n",
        "Q3.An extra day is added to the calendar almost every four years as February 29, and the day is called a leap day. It corrects the calendar for the fact that our planet takes approximately 365.25 days to orbit the sun. A leap year contains a leap day.\n",
        "\n",
        "In the Gregorian calendar, three conditions are used to identify leap years:\n",
        "The year can be evenly divided by 4, is a leap year, unless:\n",
        "The year can be evenly divided by 100, it is NOT a leap year, unless:\n",
        "The year is also evenly divisible by 400. Then it is a leap year.\n",
        "This means that in the Gregorian calendar, the years 2000 and 2400 are leap years, while 1800, 1900, 2100, 2200, 2300 and 2500 are NOT leap years. Source\n",
        "\n",
        "Task\n",
        "Given a year, determine whether it is a leap year. If it is a leap year, return the Boolean True, otherwise return False.\n",
        "\n",
        "Note that the code stub provided reads from STDIN and passes arguments to the is_leap function. It is only necessary to complete the is_leap function.\n",
        "\n",
        "Input Format\n",
        "Read , the year as integer to test.\n",
        "Output Format\n",
        "The function must return a Boolean value (True/False)\n",
        "\n",
        "Sample Input \n",
        "1990\n",
        "Sample Output \n",
        "False\n",
        "\n",
        "```"
      ]
    },
    {
      "cell_type": "code",
      "source": [
        "def is_leap(year):\n",
        "    if year%4==0 or year%400==0:\n",
        "        return True\n",
        "    elif year%100==0:\n",
        "        return False\n",
        "year=int(input(\"Enter a year:\"))\n",
        "if(is_leap(year)):\n",
        "        print(\"True\")\n",
        "else:\n",
        "   print(\"False\")"
      ],
      "metadata": {
        "id": "_d0H_KXmqBRQ",
        "outputId": "8e473bdd-d34b-46eb-d4f3-da156ca74958",
        "colab": {
          "base_uri": "https://localhost:8080/"
        }
      },
      "id": "_d0H_KXmqBRQ",
      "execution_count": 2,
      "outputs": [
        {
          "output_type": "stream",
          "name": "stdout",
          "text": [
            "Enter a year:100\n",
            "True\n"
          ]
        }
      ]
    },
    {
      "cell_type": "code",
      "source": [
        "def is_leap(year):\n",
        "  return bool((year%4==0 and year%100!=0) or (year%400==0))\n",
        "year=int(input(\"Enter The year\"))\n",
        "is_leap(year)"
      ],
      "metadata": {
        "id": "bCxyV__UQDH_",
        "outputId": "450d15f8-07ec-4041-8d6b-8d0cb0c2d5a1",
        "colab": {
          "base_uri": "https://localhost:8080/"
        }
      },
      "id": "bCxyV__UQDH_",
      "execution_count": 3,
      "outputs": [
        {
          "name": "stdout",
          "output_type": "stream",
          "text": [
            "Enter The year100\n"
          ]
        },
        {
          "output_type": "execute_result",
          "data": {
            "text/plain": [
              "False"
            ]
          },
          "metadata": {},
          "execution_count": 3
        }
      ]
    }
  ],
  "metadata": {
    "kernelspec": {
      "display_name": "Python 3 (ipykernel)",
      "language": "python",
      "name": "python3"
    },
    "language_info": {
      "codemirror_mode": {
        "name": "ipython",
        "version": 3
      },
      "file_extension": ".py",
      "mimetype": "text/x-python",
      "name": "python",
      "nbconvert_exporter": "python",
      "pygments_lexer": "ipython3",
      "version": "3.9.12"
    },
    "colab": {
      "name": "WEEK3-Assignment.ipynb",
      "provenance": [],
      "include_colab_link": true
    }
  },
  "nbformat": 4,
  "nbformat_minor": 5
}